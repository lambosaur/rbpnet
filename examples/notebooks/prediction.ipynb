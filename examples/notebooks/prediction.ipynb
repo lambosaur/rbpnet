{
 "cells": [
  {
   "cell_type": "code",
   "execution_count": 1,
   "metadata": {},
   "outputs": [],
   "source": [
    "from rbpnet import models"
   ]
  },
  {
   "cell_type": "code",
   "execution_count": 2,
   "metadata": {},
   "outputs": [
    {
     "name": "stdout",
     "output_type": "stream",
     "text": [
      "Model: \"RBPNet\"\n",
      "__________________________________________________________________________________________________\n",
      "Layer (type)                    Output Shape         Param #     Connected to                     \n",
      "==================================================================================================\n",
      "sequence (InputLayer)           [(None, None, 4)]    0                                            \n",
      "__________________________________________________________________________________________________\n",
      "first_layer_conv (FirstLayerCon (None, None, 128)    6272        sequence[0][0]                   \n",
      "__________________________________________________________________________________________________\n",
      "body_conv_1 (BodyConv)          (None, None, 128)    98944       first_layer_conv[0][0]           \n",
      "__________________________________________________________________________________________________\n",
      "body_conv_2 (BodyConv)          (None, None, 128)    98944       body_conv_1[0][0]                \n",
      "__________________________________________________________________________________________________\n",
      "body_conv_3 (BodyConv)          (None, None, 128)    98944       body_conv_2[0][0]                \n",
      "__________________________________________________________________________________________________\n",
      "body_conv_4 (BodyConv)          (None, None, 128)    98944       body_conv_3[0][0]                \n",
      "__________________________________________________________________________________________________\n",
      "body_conv_5 (BodyConv)          (None, None, 128)    98944       body_conv_4[0][0]                \n",
      "__________________________________________________________________________________________________\n",
      "body_conv_6 (BodyConv)          (None, None, 128)    98944       body_conv_5[0][0]                \n",
      "__________________________________________________________________________________________________\n",
      "body_conv_7 (BodyConv)          (None, None, 128)    98944       body_conv_6[0][0]                \n",
      "__________________________________________________________________________________________________\n",
      "body_conv_8 (BodyConv)          (None, None, 128)    98944       body_conv_7[0][0]                \n",
      "__________________________________________________________________________________________________\n",
      "body_conv_9 (BodyConv)          (None, None, 128)    98944       body_conv_8[0][0]                \n",
      "__________________________________________________________________________________________________\n",
      "QKI_HepG2_mixing_coefficient (S (None, 1)            129         body_conv_9[0][0]                \n",
      "__________________________________________________________________________________________________\n",
      "QKI_HepG2_profile_target (Profi (None, None)         2561        body_conv_9[0][0]                \n",
      "__________________________________________________________________________________________________\n",
      "QKI_HepG2_profile_control (Prof (None, None)         2561        body_conv_9[0][0]                \n",
      "__________________________________________________________________________________________________\n",
      "QKI_HepG2_profile (AdditiveTarg (None, None)         0           QKI_HepG2_profile_target[0][0]   \n",
      "                                                                 QKI_HepG2_profile_control[0][0]  \n",
      "                                                                 QKI_HepG2_mixing_coefficient[0][0\n",
      "==================================================================================================\n",
      "Total params: 902,019\n",
      "Trainable params: 899,715\n",
      "Non-trainable params: 2,304\n",
      "__________________________________________________________________________________________________\n"
     ]
    }
   ],
   "source": [
    "model = models.load_model('../models/QKI.model.h5')\n",
    "model.summary()"
   ]
  },
  {
   "cell_type": "code",
   "execution_count": 10,
   "metadata": {},
   "outputs": [],
   "source": [
    "import random\n",
    "sequence = ''.join(random.choices(['A', 'C', 'G', 'T'], k=543))"
   ]
  },
  {
   "cell_type": "code",
   "execution_count": 12,
   "metadata": {},
   "outputs": [
    {
     "name": "stdout",
     "output_type": "stream",
     "text": [
      "dict_keys(['QKI_HepG2_profile', 'QKI_HepG2_profile_control', 'QKI_HepG2_profile_target', 'QKI_HepG2_mixing_coefficient'])\n"
     ]
    }
   ],
   "source": [
    "pred = model.predict_from_sequence(sequence)\n",
    "print(pred.keys())"
   ]
  },
  {
   "cell_type": "code",
   "execution_count": 13,
   "metadata": {},
   "outputs": [
    {
     "data": {
      "text/plain": [
       "[<matplotlib.lines.Line2D at 0x7f2273dfe040>]"
      ]
     },
     "execution_count": 13,
     "metadata": {},
     "output_type": "execute_result"
    },
    {
     "data": {
      "image/png": "[encoded data removed]",
      "text/plain": [
       "<Figure size 432x288 with 1 Axes>"
      ]
     },
     "metadata": {
      "needs_background": "light"
     },
     "output_type": "display_data"
    }
   ],
   "source": [
    "import matplotlib.pyplot as plt\n",
    "plt.plot(pred['QKI_HepG2_profile_target'])"
   ]
  }
 ],
 "metadata": {
  "interpreter": {
   "hash": "07d0b395b5f16580a19d9e84ffce013ba04a7070b89ce152a7a103c5c713ce70"
  },
  "kernelspec": {
   "display_name": "Python 3.8.12 ('rbpnet-2.0')",
   "language": "python",
   "name": "python3"
  },
  "language_info": {
   "codemirror_mode": {
    "name": "ipython",
    "version": 3
   },
   "file_extension": ".py",
   "mimetype": "text/x-python",
   "name": "python",
   "nbconvert_exporter": "python",
   "pygments_lexer": "ipython3",
   "version": "3.8.12"
  },
  "orig_nbformat": 4
 },
 "nbformat": 4,
 "nbformat_minor": 2
}
